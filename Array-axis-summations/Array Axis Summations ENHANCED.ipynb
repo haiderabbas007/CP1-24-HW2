{
 "cells": [
  {
   "cell_type": "markdown",
   "metadata": {},
   "source": [
    "# Enhancements\n",
    "\n",
    "This file builds on the excellent code written by Patrick Pampo in Array Axis Summations.ipynb. The following additions have been made:\n",
    "\n",
    "1) Matrix, times, sums, and time lists are printed for the first 5 iterations to explictly show what the code is doing.\n",
    "\n",
    "2) The original code computes data only for 'Even' matrices. I have expanded the code to include data for 'Odd' matrices as well to see if the 'parity' plays any role in the computing time.\n",
    "\n",
    "3) The original file produces 2 fits, one each for the column and row summation data for the 'Even' matrices. Since I have included the 'Odd' matrices as well, the enhanced code produces 4 fits overlayed to inspect any 'parity' dependence in the computation time.\n",
    "\n",
    "4) I also combine the 'Odd' and 'Even' times together by averaging them to preserve the 1:1 correspondence with N_values and generate a grand plot with 2 fit curves, one each for the two cases.\n",
    "\n",
    "\n",
    "While the overall trend for the Row and Column Data is replicated, it is observed that the Even Column Data has a slightly higher computational time than Odd Column Data for high values of N."
   ]
  }
 ],
 "metadata": {
  "language_info": {
   "name": "python"
  }
 },
 "nbformat": 4,
 "nbformat_minor": 2
}
